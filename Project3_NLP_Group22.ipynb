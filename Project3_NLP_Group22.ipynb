{
 "cells": [
  {
   "cell_type": "code",
   "execution_count": 1,
   "id": "aabf5156",
   "metadata": {},
   "outputs": [],
   "source": [
    "import numpy as np\n",
    "import pandas as pd\n",
    "import gurobipy as gp\n",
    "from sklearn.model_selection import KFold\n",
    "import matplotlib.pyplot as plt\n",
    "from sklearn.metrics import mean_squared_error\n",
    "from sklearn import linear_model\n",
    "\n",
    "RUNTIME = 600\n",
    "kfolds = KFold(n_splits=10)\n",
    "big_m = 100"
   ]
  },
  {
   "cell_type": "markdown",
   "id": "b671f5f8",
   "metadata": {},
   "source": [
    "# Direct Variable Selection – MIQP Problem"
   ]
  },
  {
   "cell_type": "markdown",
   "id": "d7b5b32c",
   "metadata": {},
   "source": [
    "General form of Quadratic Optimization problem :\n",
    "\n",
    "Objective function : $x^{T}Qx + c^{T}x$ <br>\n",
    "such that <br> \n",
    "$ Ax \\le b $<br>\n",
    "$ x \\ge 0 $"
   ]
  },
  {
   "cell_type": "markdown",
   "id": "e59a0dcc",
   "metadata": {},
   "source": [
    "MIQL implementation has the below decision variables:\n",
    "1. $m+1$ betas - $ \\beta_{0}, \\beta_{1} ... \\beta_{m}$\n",
    "2. $m$ variables for variable selection $ z_{1}, z_{2} ... z_{m}$   <br>\n",
    "\n",
    "Total Constraint equations - 2m +1\n",
    "\n",
    "Objective function for MIQP : $$ \\beta^{T}(X^{T}X)\\beta + (-2y^{T}X)\\beta$$<br>\n",
    "such that <br> \n",
    "$$ -z_{i}M < \\beta_{i} < z_{i}M $$   $\\forall  i \\in [1,m]$<br>\n",
    "$$ \\sum_{i=1}^m z_{i} \\le k$$\n",
    "\n",
    "Comparing with the quadratic form we have :\n",
    "$Q =(X^{T}X)$<br>\n",
    "$c =(-2y^{T}X)$"
   ]
  },
  {
   "cell_type": "markdown",
   "id": "6455022a",
   "metadata": {},
   "source": [
    "### Find the best k using MIQP"
   ]
  },
  {
   "cell_type": "code",
   "execution_count": 2,
   "id": "0a94872c",
   "metadata": {},
   "outputs": [
    {
     "name": "stdout",
     "output_type": "stream",
     "text": [
      "Academic license - for non-commercial use only - expires 2022-08-24\n",
      "Using license file C:\\Users\\chiay\\gurobi.lic\n",
      "5 : 917.4790609380484\n",
      "10 : 724.7876314288023\n",
      "15 : 764.0499375891018\n",
      "20 : 799.0122009667082\n",
      "25 : 770.482827894026\n",
      "30 : 830.0824019758022\n",
      "35 : 831.1040076999241\n",
      "40 : 847.7662642883423\n",
      "45 : 847.1084135569309\n",
      "50 : 847.1845453502016\n",
      "The best number of X variables is: 10\n"
     ]
    }
   ],
   "source": [
    "lasso_d = {}\n",
    "k_lst = []\n",
    "sse_lst = []\n",
    "\n",
    "for k in [5,10,15,20,25,30,35,40,45,50]:\n",
    "    \n",
    "    train = pd.read_csv('training_data.csv')\n",
    "    X = np.array(train.iloc[0:,1:])\n",
    "    y = np.array(train['y'])\n",
    "    \n",
    "    sse = 0\n",
    "    \n",
    "    # cross validation\n",
    "    for train_index, holdout_index in kfolds.split(X):\n",
    "        X_train, X_holdout = X[train_index], X[holdout_index]\n",
    "        y_train, y_holdout = y[train_index], y[holdout_index]\n",
    "        \n",
    "        n = X_train.shape[0] # number of rows\n",
    "        m = X_train.shape[1] # number of variables\n",
    "\n",
    "        # quadratic term Q\n",
    "        Q = np.zeros((2*m+1, 2*m+1))\n",
    "        X_Q = np.zeros((n,m+1))\n",
    "        X_Q[0:n, 0] = 1\n",
    "        for i in range(n):        \n",
    "            X_Q[i, 1:] = X_train[i,:]\n",
    "        Q[:m+1,:m+1] = X_Q.T @ X_Q\n",
    "\n",
    "        # linear term C\n",
    "        C = np.zeros(2*m+1)\n",
    "        C[:m+1] = -2*(y_train.T) @ X_Q\n",
    "        \n",
    "        # create A matrix\n",
    "        A = np.zeros((2*m+1, 2*m+1))\n",
    "\n",
    "        # big M constraint: weights-M*binary  <= 0\n",
    "        np.fill_diagonal(A[:m, 1:m+1], 1) \n",
    "        np.fill_diagonal(A[:m, m+1:2*m+1], -big_m) \n",
    "        \n",
    "        # big M constraint: weights+M*binary  >= 0\n",
    "        np.fill_diagonal(A[m:-1, 1:m+1], 1) \n",
    "        np.fill_diagonal(A[m:-1, m+1:2*m+1], big_m) \n",
    "\n",
    "        # k stocks are chosen\n",
    "        A[-1, m+1:] = 1\n",
    "\n",
    "        sense = np.array(['<']*m + ['>']*m + ['<'])\n",
    "\n",
    "        b = np.concatenate((np.zeros(2*m), [k]))\n",
    "\n",
    "        lb = np.array([np.NINF]+[-big_m]*m+[np.NINF]*m)\n",
    "\n",
    "        ndxMod = gp.Model()\n",
    "        ndxMod_x = ndxMod.addMVar(len(Q),vtype=['C']*(m+1)+['B']*m, lb=lb) \n",
    "        ndxMod_con = ndxMod.addMConstrs(A, ndxMod_x, sense, b)\n",
    "        ndxMod.setMObjective(Q, C, 0, sense=gp.GRB.MINIMIZE)\n",
    "        ndxMod.Params.OutputFlag = 0\n",
    "        ndxMod.setParam('TimeLimit', RUNTIME)\n",
    "        ndxMod.optimize()\n",
    "        \n",
    "        # save the coefficients\n",
    "        coef = ndxMod_x.x[:m+1]\n",
    "        \n",
    "        n = X_holdout.shape[0] # number of rows\n",
    "        \n",
    "        # X variables for each record in the holdout set\n",
    "        X_Q = np.zeros((n,m+1))\n",
    "        X_Q[0:n, 0] = 1\n",
    "        for i in range(n):        \n",
    "            X_Q[i, 1:] = X_holdout[i,:]\n",
    "        \n",
    "        # calculate the SSE for holdout set\n",
    "        sse += np.transpose(X_Q @ coef - y_holdout) @ (X_Q @ coef - y_holdout)\n",
    "        \n",
    "    print(k,':',sse)\n",
    "    lasso_d[sse] = k\n",
    "    \n",
    "    k_lst.append(k)\n",
    "    sse_lst.append(sse)\n",
    "    \n",
    "best_k = lasso_d[min(k for k, v in lasso_d.items())] # save the best k\n",
    "print('The best number of X variables is:', best_k)"
   ]
  },
  {
   "cell_type": "markdown",
   "id": "e776f837",
   "metadata": {},
   "source": [
    "### Plot the SSE"
   ]
  },
  {
   "cell_type": "code",
   "execution_count": 3,
   "id": "023c184c",
   "metadata": {},
   "outputs": [
    {
     "data": {
      "text/plain": [
       "<function matplotlib.pyplot.show(close=None, block=None)>"
      ]
     },
     "execution_count": 3,
     "metadata": {},
     "output_type": "execute_result"
    },
    {
     "data": {
      "image/png": "[encoded data removed]",
      "text/plain": [
       "<Figure size 576x360 with 1 Axes>"
      ]
     },
     "metadata": {
      "needs_background": "light"
     },
     "output_type": "display_data"
    }
   ],
   "source": [
    "plt.figure(figsize=(8,5))\n",
    "plt.bar(k_lst, sse_lst, label='SSE')\n",
    "plt.title('Performance Evaluation')\n",
    "plt.xlabel('Number of X Variables')\n",
    "plt.ylabel('Sum of Square Errors')\n",
    "plt.legend()\n",
    "plt.show"
   ]
  },
  {
   "cell_type": "markdown",
   "id": "a65a51b3",
   "metadata": {},
   "source": [
    "### Fit the MIQP model on the entire training set with k=10"
   ]
  },
  {
   "cell_type": "code",
   "execution_count": 4,
   "id": "4bcbed73",
   "metadata": {},
   "outputs": [
    {
     "name": "stdout",
     "output_type": "stream",
     "text": [
      "[ 0.97252408  0.          0.          0.          0.          0.\n",
      "  0.          0.          0.         -2.30820726  0.          0.\n",
      "  0.          0.          0.         -0.51832612 -0.20416201  0.\n",
      "  0.          0.          0.          0.          0.         -1.55914318\n",
      "  0.86697336  0.         -1.31191942  0.          0.          0.\n",
      "  0.          0.          0.          0.          0.4081653   0.\n",
      "  0.          0.          0.          0.          0.          0.\n",
      "  0.          0.          0.          1.78147489  0.          0.88738292\n",
      " -0.28229213  0.          0.        ]\n"
     ]
    }
   ],
   "source": [
    "train = pd.read_csv('training_data.csv')\n",
    "\n",
    "X_train = np.array(train.iloc[0:,1:])\n",
    "y_train = np.array(train['y'])\n",
    "\n",
    "n = X_train.shape[0] # number of rows\n",
    "m = X_train.shape[1] # number of variables\n",
    "\n",
    "# quadratic term Q\n",
    "Q = np.zeros((2*m+1, 2*m+1))\n",
    "X = np.zeros((n,m+1))\n",
    "X[0:n, 0] = 1\n",
    "for i in range(n):        \n",
    "    X[i, 1:] = X_train[i,:]\n",
    "Q[:m+1,:m+1] = X.T @ X\n",
    "\n",
    "# linear term C\n",
    "C = np.zeros(2*m+1)\n",
    "C[:m+1] = -2*(y_train.T) @ X\n",
    "\n",
    "# create A matrix\n",
    "A = np.zeros((2*m+1, 2*m+1))\n",
    "\n",
    "# big M constraint: weights-M*binary  <= 0\n",
    "np.fill_diagonal(A[:m, 1:m+1], 1) \n",
    "np.fill_diagonal(A[:m, m+1:2*m+1], -big_m) \n",
    "        \n",
    "# big M constraint: weights+M*binary  >= 0\n",
    "np.fill_diagonal(A[m:-1, 1:m+1], 1) \n",
    "np.fill_diagonal(A[m:-1, m+1:2*m+1], big_m) \n",
    "\n",
    "# k stocks are chosen\n",
    "A[-1, m+1:] = 1\n",
    "\n",
    "sense = np.array(['<']*m + ['>']*m + ['<'])\n",
    "\n",
    "b = np.concatenate((np.zeros(2*m), [best_k]))\n",
    "\n",
    "lb = np.array([-big_m]*(m+1)+[0]*m)\n",
    "\n",
    "ndxMod = gp.Model()\n",
    "ndxMod_x = ndxMod.addMVar(len(Q),vtype=['C']*(m+1)+['B']*m, lb=lb) \n",
    "ndxMod_con = ndxMod.addMConstrs(A, ndxMod_x, sense, b)\n",
    "ndxMod.setMObjective(Q, C, 0, sense=gp.GRB.MINIMIZE)\n",
    "ndxMod.Params.OutputFlag = 0\n",
    "ndxMod.setParam('TimeLimit', RUNTIME)\n",
    "ndxMod.optimize()\n",
    "\n",
    "# save the coefficients\n",
    "coef = ndxMod_x.x[:m+1]\n",
    "        \n",
    "print(coef)"
   ]
  },
  {
   "cell_type": "markdown",
   "id": "670dd50e",
   "metadata": {},
   "source": [
    "### Make predictions of y_test using the saved coefficients"
   ]
  },
  {
   "cell_type": "code",
   "execution_count": 5,
   "id": "953f9034",
   "metadata": {},
   "outputs": [
    {
     "data": {
      "text/plain": [
       "array([ 6.17985878,  5.09524299,  3.28559532,  3.75848539, -0.33297526,\n",
       "       -5.14273683, -3.14454357, -1.23806288,  1.38511093, -0.44173854,\n",
       "       -1.69500225,  2.73035027,  0.74744903, -0.97192232, -0.68681528,\n",
       "        8.04522381, -7.94698471,  3.89063974, -4.58142919, -3.21992082,\n",
       "       -2.16211454,  3.21686318, -3.19810533,  0.19740731, -2.35988844,\n",
       "       -0.41999885, -1.9125216 , -3.32418587, -3.14170972, -3.55379324,\n",
       "       -1.80842543, -0.37134301,  1.8670808 ,  5.04927886, -1.80005614,\n",
       "        3.09427675,  4.38154309,  2.6988627 ,  1.6132886 ,  5.97584637,\n",
       "       -1.1973583 ,  5.2232542 , -5.84899891, -1.14461528,  4.51802998,\n",
       "        4.18774866,  4.12046008,  0.61483809,  1.95723246, -1.54904383])"
      ]
     },
     "execution_count": 5,
     "metadata": {},
     "output_type": "execute_result"
    }
   ],
   "source": [
    "test = pd.read_csv('test_data.csv')\n",
    "X_test = np.array(test.iloc[0:,1:])\n",
    "y_test = np.array(test['y'])\n",
    "\n",
    "n = X_test.shape[0] # number of rows\n",
    "m = X_test.shape[1] # number of variables\n",
    "\n",
    "# X variables for each record\n",
    "X = np.zeros((n,m+1))\n",
    "X[0:n, 0] = 1\n",
    "for i in range(n):        \n",
    "    X[i, 1:] = X_test[i,:]\n",
    "    \n",
    "X @ coef"
   ]
  },
  {
   "cell_type": "markdown",
   "id": "6dfca404",
   "metadata": {},
   "source": [
    "### Calaculate the MSE of y_test"
   ]
  },
  {
   "cell_type": "code",
   "execution_count": 6,
   "id": "66208727",
   "metadata": {},
   "outputs": [
    {
     "name": "stdout",
     "output_type": "stream",
     "text": [
      "The MSE is: 2.336543964552524\n"
     ]
    }
   ],
   "source": [
    "print('The MSE is:', mean_squared_error(y_test, X @ coef))"
   ]
  },
  {
   "cell_type": "markdown",
   "id": "87137000",
   "metadata": {},
   "source": [
    "# Indirect Variable Selection – LASSO"
   ]
  },
  {
   "cell_type": "markdown",
   "id": "b89d22aa",
   "metadata": {},
   "source": [
    "### Fit a linear regression model using Lasso "
   ]
  },
  {
   "cell_type": "code",
   "execution_count": 7,
   "id": "9043459c",
   "metadata": {},
   "outputs": [
    {
     "name": "stdout",
     "output_type": "stream",
     "text": [
      "Alpha value: 0.07638765995113514\n",
      "Model intercept: 1.0015522007348236\n",
      "Total X variables: 17\n",
      "X variable coefficients: [-0.         -0.          0.          0.         -0.          0.\n",
      " -0.         -0.         -2.16054765  0.         -0.05964031 -0.\n",
      " -0.         -0.         -0.41912484 -0.19325408  0.          0.\n",
      " -0.          0.          0.         -0.19517759 -1.36388738  0.7425965\n",
      " -0.         -1.30481574 -0.          0.          0.05798283  0.\n",
      " -0.          0.         -0.09737839  0.28341629  0.          0.\n",
      "  0.          0.         -0.23157873  0.         -0.          0.\n",
      "  0.          0.03078191  1.56362172 -0.02160033  0.69992447 -0.09289745\n",
      "  0.          0.        ]\n"
     ]
    }
   ],
   "source": [
    "train = pd.read_csv('training_data.csv')\n",
    "X_train = np.array(train.iloc[0:,1:])\n",
    "y_train = np.array(train['y'])\n",
    "\n",
    "lasso = linear_model.LassoCV(cv=10).fit(X_train, y_train)\n",
    "\n",
    "print('Alpha value:', lasso.alpha_)\n",
    "print('Model intercept:', lasso.intercept_)\n",
    "print('Total X variables:', (lasso.coef_ != 0).sum())\n",
    "print('X variable coefficients:', lasso.coef_)"
   ]
  },
  {
   "cell_type": "markdown",
   "id": "ff96c800",
   "metadata": {},
   "source": [
    "### Make predictions of y_test"
   ]
  },
  {
   "cell_type": "code",
   "execution_count": 8,
   "id": "d2c0022e",
   "metadata": {},
   "outputs": [
    {
     "data": {
      "text/plain": [
       "array([ 6.07686351,  4.9181073 ,  3.22777954,  3.57138566, -0.41849943,\n",
       "       -4.94878307, -2.8218873 , -1.49522305,  1.38296395, -0.24746403,\n",
       "       -1.94701631,  2.70749465,  0.64484559, -0.50918617, -0.31915912,\n",
       "        7.37584986, -7.54781954,  3.59673093, -4.39624331, -2.98890566,\n",
       "       -1.94423698,  3.33248953, -2.42122798,  1.13315219, -2.53307168,\n",
       "       -0.15595162, -1.62271875, -2.31420693, -3.46402012, -3.71707635,\n",
       "       -1.66827581, -0.07491137,  1.40363987,  5.45269115, -1.20270399,\n",
       "        2.37325349,  4.74719816,  3.13015173,  1.55100085,  5.85587702,\n",
       "       -0.81232674,  4.66231732, -5.71548761, -1.20927664,  4.25279319,\n",
       "        4.09734242,  3.8335482 ,  0.61787077,  1.89407804, -1.02592954])"
      ]
     },
     "execution_count": 8,
     "metadata": {},
     "output_type": "execute_result"
    }
   ],
   "source": [
    "test = pd.read_csv('test_data.csv')\n",
    "X_test = np.array(test.iloc[0:,1:])\n",
    "y_test = np.array(test['y'])\n",
    "\n",
    "lasso.predict(X_test)"
   ]
  },
  {
   "cell_type": "markdown",
   "id": "04f286a9",
   "metadata": {},
   "source": [
    "### Calculate the MSE of y_test"
   ]
  },
  {
   "cell_type": "code",
   "execution_count": 9,
   "id": "89c16e3a",
   "metadata": {},
   "outputs": [
    {
     "name": "stdout",
     "output_type": "stream",
     "text": [
      "The MSE is: 2.3496347591605797\n"
     ]
    }
   ],
   "source": [
    "print('The MSE is:', mean_squared_error(y_test, lasso.predict(X_test)))"
   ]
  },
  {
   "cell_type": "markdown",
   "id": "eaf37a0f",
   "metadata": {},
   "source": [
    "### EDA of comparison"
   ]
  },
  {
   "cell_type": "code",
   "execution_count": 76,
   "id": "f87f7c6f",
   "metadata": {},
   "outputs": [
    {
     "data": {
      "image/png": "[encoded data removed]",
      "text/plain": [
       "<Figure size 842.4x595.44 with 1 Axes>"
      ]
     },
     "metadata": {},
     "output_type": "display_data"
    }
   ],
   "source": [
    "# predictions of y_test\n",
    "\n",
    "test = pd.read_csv('test_data.csv')\n",
    "X_test = np.array(test.iloc[0:,1:])\n",
    "y_test = np.array(test['y'])\n",
    "\n",
    "#lasso.predict(X_test)\n",
    "\n",
    "sns.kdeplot(X@coef,alpha=0.35,fill='orange',label='MIQP',legend=True)\n",
    "sns.kdeplot(lasso.predict(X_test),alpha=0.35,fill='skyblue',label='Lasso',legend=True)\n",
    "plt.legend()\n",
    "plt.xlabel('Prediction')plt.plot(coef[1:],alpha=0.55,label='MIQP',marker='.', markersize=10) \n",
    "plt.plot(lasso.coef_,alpha=0.55,label='Lasso',marker='.', markersize=10) #lets plot the second line\n",
    "plt.ylabel('Feature Index')\n",
    "plt.xlabel('Coefficient Value')\n",
    "plt.title('Comparison of regression coefficients')\n",
    "plt.legend(loc = 'best')\n",
    "plt.show()"
   ]
  },
  {
   "cell_type": "code",
   "execution_count": 100,
   "id": "7f46ae08",
   "metadata": {},
   "outputs": [
    {
     "data": {
      "text/plain": [
       "Text(0.5, 0, 'Prediction')"
      ]
     },
     "execution_count": 100,
     "metadata": {},
     "output_type": "execute_result"
    },
    {
     "data": {
      "image/png": "[encoded data removed]",
      "text/plain": [
       "<Figure size 842.4x595.44 with 1 Axes>"
      ]
     },
     "metadata": {},
     "output_type": "display_data"
    }
   ],
   "source": [
    "sns.kdeplot(X@coef,alpha=0.35,fill='orange',label='MIQP',legend=True)\n",
    "sns.kdeplot(lasso.predict(X_test),alpha=0.35,fill='skyblue',label='Lasso',legend=True)\n",
    "plt.legend()\n",
    "plt.xlabel('Prediction')"
   ]
  }
 ],
 "metadata": {
  "hide_input": false,
  "kernelspec": {
   "display_name": "Python 3",
   "language": "python",
   "name": "python3"
  },
  "language_info": {
   "codemirror_mode": {
    "name": "ipython",
    "version": 3
   },
   "file_extension": ".py",
   "mimetype": "text/x-python",
   "name": "python",
   "nbconvert_exporter": "python",
   "pygments_lexer": "ipython3",
   "version": "3.8.8"
  },
  "toc": {
   "base_numbering": 1,
   "nav_menu": {},
   "number_sections": true,
   "sideBar": true,
   "skip_h1_title": false,
   "title_cell": "Table of Contents",
   "title_sidebar": "Contents",
   "toc_cell": false,
   "toc_position": {},
   "toc_section_display": true,
   "toc_window_display": false
  },
  "varInspector": {
   "cols": {
    "lenName": 16,
    "lenType": 16,
    "lenVar": 40
   },
   "kernels_config": {
    "python": {
     "delete_cmd_postfix": "",
     "delete_cmd_prefix": "del ",
     "library": "var_list.py",
     "varRefreshCmd": "print(var_dic_list())"
    },
    "r": {
     "delete_cmd_postfix": ") ",
     "delete_cmd_prefix": "rm(",
     "library": "var_list.r",
     "varRefreshCmd": "cat(var_dic_list()) "
    }
   },
   "types_to_exclude": [
    "module",
    "function",
    "builtin_function_or_method",
    "instance",
    "_Feature"
   ],
   "window_display": false
  }
 },
 "nbformat": 4,
 "nbformat_minor": 5
}
