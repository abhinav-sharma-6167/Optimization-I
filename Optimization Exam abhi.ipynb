{
 "cells": [
  {
   "cell_type": "markdown",
   "id": "2e506629",
   "metadata": {},
   "source": [
    "Name : Abhinav Sharma <br>\n",
    "Eid : ass2575 <br>\n",
    "Subject : Optimization I <br>\n"
   ]
  },
  {
   "cell_type": "code",
   "execution_count": 10,
   "id": "09d91a75",
   "metadata": {},
   "outputs": [],
   "source": [
    "import numpy as np\n",
    "import gurobipy as gp\n",
    "import pandas as pd\n",
    "from matplotlib import pyplot as plt"
   ]
  },
  {
   "cell_type": "markdown",
   "id": "249cd9b2",
   "metadata": {},
   "source": [
    "### Q1\n"
   ]
  },
  {
   "cell_type": "code",
   "execution_count": 14,
   "id": "6e17eff5",
   "metadata": {},
   "outputs": [
    {
     "data": {
      "text/html": [
       "<div>\n",
       "<style scoped>\n",
       "    .dataframe tbody tr th:only-of-type {\n",
       "        vertical-align: middle;\n",
       "    }\n",
       "\n",
       "    .dataframe tbody tr th {\n",
       "        vertical-align: top;\n",
       "    }\n",
       "\n",
       "    .dataframe thead th {\n",
       "        text-align: right;\n",
       "    }\n",
       "</style>\n",
       "<table border=\"1\" class=\"dataframe\">\n",
       "  <thead>\n",
       "    <tr style=\"text-align: right;\">\n",
       "      <th></th>\n",
       "      <th>Page0</th>\n",
       "      <th>Page1</th>\n",
       "      <th>Page2</th>\n",
       "      <th>Page3</th>\n",
       "      <th>Page4</th>\n",
       "      <th>Page5</th>\n",
       "      <th>Page6</th>\n",
       "      <th>Page7</th>\n",
       "      <th>Page8</th>\n",
       "      <th>Page9</th>\n",
       "      <th>...</th>\n",
       "      <th>Page90</th>\n",
       "      <th>Page91</th>\n",
       "      <th>Page92</th>\n",
       "      <th>Page93</th>\n",
       "      <th>Page94</th>\n",
       "      <th>Page95</th>\n",
       "      <th>Page96</th>\n",
       "      <th>Page97</th>\n",
       "      <th>Page98</th>\n",
       "      <th>Page99</th>\n",
       "    </tr>\n",
       "  </thead>\n",
       "  <tbody>\n",
       "    <tr>\n",
       "      <th>0</th>\n",
       "      <td>False</td>\n",
       "      <td>False</td>\n",
       "      <td>False</td>\n",
       "      <td>False</td>\n",
       "      <td>False</td>\n",
       "      <td>False</td>\n",
       "      <td>False</td>\n",
       "      <td>False</td>\n",
       "      <td>False</td>\n",
       "      <td>False</td>\n",
       "      <td>...</td>\n",
       "      <td>False</td>\n",
       "      <td>False</td>\n",
       "      <td>False</td>\n",
       "      <td>False</td>\n",
       "      <td>False</td>\n",
       "      <td>False</td>\n",
       "      <td>False</td>\n",
       "      <td>False</td>\n",
       "      <td>False</td>\n",
       "      <td>False</td>\n",
       "    </tr>\n",
       "    <tr>\n",
       "      <th>1</th>\n",
       "      <td>False</td>\n",
       "      <td>False</td>\n",
       "      <td>False</td>\n",
       "      <td>False</td>\n",
       "      <td>False</td>\n",
       "      <td>True</td>\n",
       "      <td>False</td>\n",
       "      <td>False</td>\n",
       "      <td>False</td>\n",
       "      <td>False</td>\n",
       "      <td>...</td>\n",
       "      <td>False</td>\n",
       "      <td>False</td>\n",
       "      <td>False</td>\n",
       "      <td>False</td>\n",
       "      <td>False</td>\n",
       "      <td>True</td>\n",
       "      <td>False</td>\n",
       "      <td>False</td>\n",
       "      <td>False</td>\n",
       "      <td>False</td>\n",
       "    </tr>\n",
       "    <tr>\n",
       "      <th>2</th>\n",
       "      <td>True</td>\n",
       "      <td>False</td>\n",
       "      <td>False</td>\n",
       "      <td>False</td>\n",
       "      <td>False</td>\n",
       "      <td>False</td>\n",
       "      <td>False</td>\n",
       "      <td>False</td>\n",
       "      <td>False</td>\n",
       "      <td>False</td>\n",
       "      <td>...</td>\n",
       "      <td>False</td>\n",
       "      <td>False</td>\n",
       "      <td>False</td>\n",
       "      <td>False</td>\n",
       "      <td>False</td>\n",
       "      <td>False</td>\n",
       "      <td>False</td>\n",
       "      <td>True</td>\n",
       "      <td>False</td>\n",
       "      <td>False</td>\n",
       "    </tr>\n",
       "    <tr>\n",
       "      <th>3</th>\n",
       "      <td>False</td>\n",
       "      <td>False</td>\n",
       "      <td>False</td>\n",
       "      <td>False</td>\n",
       "      <td>False</td>\n",
       "      <td>False</td>\n",
       "      <td>False</td>\n",
       "      <td>False</td>\n",
       "      <td>False</td>\n",
       "      <td>False</td>\n",
       "      <td>...</td>\n",
       "      <td>False</td>\n",
       "      <td>False</td>\n",
       "      <td>False</td>\n",
       "      <td>False</td>\n",
       "      <td>False</td>\n",
       "      <td>False</td>\n",
       "      <td>False</td>\n",
       "      <td>False</td>\n",
       "      <td>False</td>\n",
       "      <td>False</td>\n",
       "    </tr>\n",
       "    <tr>\n",
       "      <th>4</th>\n",
       "      <td>False</td>\n",
       "      <td>False</td>\n",
       "      <td>False</td>\n",
       "      <td>False</td>\n",
       "      <td>False</td>\n",
       "      <td>False</td>\n",
       "      <td>False</td>\n",
       "      <td>False</td>\n",
       "      <td>False</td>\n",
       "      <td>False</td>\n",
       "      <td>...</td>\n",
       "      <td>False</td>\n",
       "      <td>True</td>\n",
       "      <td>False</td>\n",
       "      <td>False</td>\n",
       "      <td>False</td>\n",
       "      <td>False</td>\n",
       "      <td>False</td>\n",
       "      <td>False</td>\n",
       "      <td>False</td>\n",
       "      <td>False</td>\n",
       "    </tr>\n",
       "  </tbody>\n",
       "</table>\n",
       "<p>5 rows × 100 columns</p>\n",
       "</div>"
      ],
      "text/plain": [
       "   Page0  Page1  Page2  Page3  Page4  Page5  Page6  Page7  Page8  Page9  ...  \\\n",
       "0  False  False  False  False  False  False  False  False  False  False  ...   \n",
       "1  False  False  False  False  False   True  False  False  False  False  ...   \n",
       "2   True  False  False  False  False  False  False  False  False  False  ...   \n",
       "3  False  False  False  False  False  False  False  False  False  False  ...   \n",
       "4  False  False  False  False  False  False  False  False  False  False  ...   \n",
       "\n",
       "   Page90  Page91  Page92  Page93  Page94  Page95  Page96  Page97  Page98  \\\n",
       "0   False   False   False   False   False   False   False   False   False   \n",
       "1   False   False   False   False   False    True   False   False   False   \n",
       "2   False   False   False   False   False   False   False    True   False   \n",
       "3   False   False   False   False   False   False   False   False   False   \n",
       "4   False    True   False   False   False   False   False   False   False   \n",
       "\n",
       "   Page99  \n",
       "0   False  \n",
       "1   False  \n",
       "2   False  \n",
       "3   False  \n",
       "4   False  \n",
       "\n",
       "[5 rows x 100 columns]"
      ]
     },
     "execution_count": 14,
     "metadata": {},
     "output_type": "execute_result"
    }
   ],
   "source": [
    "#Load data\n",
    "dt = pd.read_csv('LinkData_6.csv')\n",
    "dt.head()"
   ]
  },
  {
   "cell_type": "code",
   "execution_count": 13,
   "id": "96b383f0",
   "metadata": {},
   "outputs": [
    {
     "data": {
      "text/plain": [
       "array([[False, False, False, ..., False, False, False],\n",
       "       [False, False, False, ..., False, False, False],\n",
       "       [ True, False, False, ...,  True, False, False],\n",
       "       ...,\n",
       "       [False, False, False, ..., False, False, False],\n",
       "       [False, False, False, ..., False, False, False],\n",
       "       [False, False, False, ..., False, False, False]])"
      ]
     },
     "execution_count": 13,
     "metadata": {},
     "output_type": "execute_result"
    }
   ],
   "source": [
    "df = np.array(dt)\n",
    "df"
   ]
  },
  {
   "cell_type": "code",
   "execution_count": 67,
   "id": "0504ef16",
   "metadata": {},
   "outputs": [
    {
     "data": {
      "text/plain": [
       "0.048"
      ]
     },
     "execution_count": 67,
     "metadata": {},
     "output_type": "execute_result"
    }
   ],
   "source": [
    "#Probab from 17 to 16\n",
    "round(df[17,16]/sum(df[17,:]),3)"
   ]
  },
  {
   "cell_type": "code",
   "execution_count": 68,
   "id": "a044580f",
   "metadata": {},
   "outputs": [
    {
     "data": {
      "text/plain": [
       "100"
      ]
     },
     "execution_count": 68,
     "metadata": {},
     "output_type": "execute_result"
    }
   ],
   "source": [
    "n = len(df)\n",
    "n"
   ]
  },
  {
   "cell_type": "code",
   "execution_count": 69,
   "id": "a8dc3c6e",
   "metadata": {},
   "outputs": [],
   "source": [
    "#Initialize\n",
    "P=np.zeros((n,n))\n",
    "\n",
    "for i in range(n):\n",
    "    sum_=sum(df[i,:])\n",
    "    for j in range(n):\n",
    "        P[i,j]=df[i,j]/sum_\n",
    "        \n"
   ]
  },
  {
   "cell_type": "code",
   "execution_count": 70,
   "id": "12e470e2",
   "metadata": {},
   "outputs": [
    {
     "data": {
      "text/plain": [
       "1.163"
      ]
     },
     "execution_count": 70,
     "metadata": {},
     "output_type": "execute_result"
    }
   ],
   "source": [
    "round(sum(P[:,50]),3)"
   ]
  },
  {
   "cell_type": "code",
   "execution_count": 71,
   "id": "dbc70aff",
   "metadata": {},
   "outputs": [
    {
     "data": {
      "text/plain": [
       "array([0.00573833, 0.00769424, 0.00555043, 0.0055146 , 0.00453227,\n",
       "       0.00557325, 0.0051904 , 0.00556341, 0.00457945, 0.00554611,\n",
       "       0.00753453, 0.00781997, 0.00757092, 0.00771049, 0.01407555,\n",
       "       0.01193625, 0.01130167, 0.00886274, 0.00583722, 0.01185877,\n",
       "       0.00841383, 0.00609158, 0.00880036, 0.00779918, 0.00968227,\n",
       "       0.0125245 , 0.01052719, 0.0096278 , 0.01128387, 0.01170446,\n",
       "       0.01019642, 0.00963237, 0.00916069, 0.01089168, 0.01576276,\n",
       "       0.01121872, 0.01460209, 0.01054923, 0.01640059, 0.01002743,\n",
       "       0.011999  , 0.01023118, 0.01506729, 0.01101342, 0.01178936,\n",
       "       0.01551068, 0.01027617, 0.01456252, 0.01014159, 0.01872343,\n",
       "       0.01162508, 0.01434055, 0.01478432, 0.01454741, 0.01396555,\n",
       "       0.0092492 , 0.01396915, 0.01273325, 0.01607843, 0.01515518,\n",
       "       0.0145669 , 0.01379209, 0.00982474, 0.00944187, 0.00992358,\n",
       "       0.01467456, 0.0158174 , 0.00667514, 0.01539148, 0.01079153,\n",
       "       0.01045996, 0.00945565, 0.01121931, 0.01151403, 0.008658  ,\n",
       "       0.00914144, 0.01333265, 0.01264693, 0.01235027, 0.00988371,\n",
       "       0.00980304, 0.01103714, 0.0077225 , 0.0116942 , 0.00861188,\n",
       "       0.00710726, 0.00647193, 0.00674521, 0.010309  , 0.01143688,\n",
       "       0.00805548, 0.00587085, 0.00244471, 0.00441729, 0.00298876,\n",
       "       0.00642676, 0.00736695, 0.004964  , 0.00398683, 0.00232769])"
      ]
     },
     "execution_count": 71,
     "metadata": {},
     "output_type": "execute_result"
    }
   ],
   "source": [
    "#Initialize\n",
    "v=[0.01]*100\n",
    "\n",
    "v = v @ P\n",
    "\n",
    "v"
   ]
  },
  {
   "cell_type": "code",
   "execution_count": 72,
   "id": "8a653ca6",
   "metadata": {},
   "outputs": [
    {
     "data": {
      "text/plain": [
       "0.191"
      ]
     },
     "execution_count": 72,
     "metadata": {},
     "output_type": "execute_result"
    }
   ],
   "source": [
    "round(sum(v[0:25]),3)"
   ]
  },
  {
   "cell_type": "code",
   "execution_count": 73,
   "id": "2e140ab9",
   "metadata": {},
   "outputs": [
    {
     "data": {
      "text/plain": [
       "[1.0,\n",
       " 0.9999999999999999,\n",
       " 0.9999999999999999,\n",
       " 0.9999999999999998,\n",
       " 1.0,\n",
       " 0.9999999999999999,\n",
       " 0.9999999999999997,\n",
       " 0.9999999999999999,\n",
       " 0.9999999999999998,\n",
       " 0.9999999999999998]"
      ]
     },
     "execution_count": 73,
     "metadata": {},
     "output_type": "execute_result"
    }
   ],
   "source": [
    "v = [0.01]*100\n",
    "store = []\n",
    "for i in range(100):\n",
    "    v_next = v @ P\n",
    "    #Put value of v\n",
    "    v = v_next\n",
    "    store.append(v.sum())\n",
    "    \n",
    "    \n",
    "store[0:10]"
   ]
  },
  {
   "cell_type": "code",
   "execution_count": 74,
   "id": "027aabc7",
   "metadata": {},
   "outputs": [
    {
     "data": {
      "text/plain": [
       "0.014"
      ]
     },
     "execution_count": 74,
     "metadata": {},
     "output_type": "execute_result"
    }
   ],
   "source": [
    "round(v[60],3)"
   ]
  },
  {
   "cell_type": "code",
   "execution_count": 75,
   "id": "d233c403",
   "metadata": {},
   "outputs": [
    {
     "name": "stdout",
     "output_type": "stream",
     "text": [
      "Error limit reached\n",
      "3\n"
     ]
    }
   ],
   "source": [
    "v=[0.01]*100\n",
    "\n",
    "for i in range(500):\n",
    "    v_next = v @ P\n",
    "    diff = np.mean( abs(v_next - v))\n",
    "\n",
    "    if diff < 0.0001:\n",
    "        print('Error limit reached')\n",
    "        print(i)\n",
    "        break\n",
    "    v = v_next"
   ]
  },
  {
   "cell_type": "code",
   "execution_count": 76,
   "id": "412e27a0",
   "metadata": {},
   "outputs": [
    {
     "data": {
      "text/plain": [
       "array([0.00429474, 0.00755581, 0.00496142, 0.00395094, 0.00463076,\n",
       "       0.00490512, 0.00403685, 0.00494001, 0.00534775, 0.00582421,\n",
       "       0.00792792, 0.00919796, 0.00792954, 0.00780904, 0.01466063,\n",
       "       0.0125265 , 0.01118054, 0.01020282, 0.00589442, 0.01156642,\n",
       "       0.00827101, 0.00686881, 0.00931079, 0.00882903, 0.01009723,\n",
       "       0.01208231, 0.01074875, 0.01092998, 0.00926586, 0.01115431,\n",
       "       0.01117246, 0.00910644, 0.00919461, 0.00964984, 0.01430459,\n",
       "       0.00957275, 0.01574659, 0.01130695, 0.01548759, 0.01064109,\n",
       "       0.01118082, 0.01039511, 0.01417179, 0.0117093 , 0.01241834,\n",
       "       0.01436138, 0.00971675, 0.01417501, 0.01073215, 0.01823881,\n",
       "       0.0116464 , 0.01542999, 0.01440859, 0.01410096, 0.01422752,\n",
       "       0.01053709, 0.01243616, 0.0124304 , 0.01552008, 0.01555809,\n",
       "       0.01380667, 0.0134601 , 0.01065653, 0.01062133, 0.00930544,\n",
       "       0.01470236, 0.01577867, 0.00689692, 0.01439863, 0.01090115,\n",
       "       0.01119421, 0.0086576 , 0.01129441, 0.01261503, 0.00951825,\n",
       "       0.01022203, 0.01290885, 0.01328007, 0.01228141, 0.01038705,\n",
       "       0.00874582, 0.01142288, 0.00763057, 0.01145738, 0.00863768,\n",
       "       0.00782687, 0.00783983, 0.00693948, 0.01112365, 0.01030215,\n",
       "       0.00768974, 0.00485034, 0.00192455, 0.00355319, 0.00356625,\n",
       "       0.00701577, 0.00859965, 0.00445344, 0.00487005, 0.00218487])"
      ]
     },
     "execution_count": 76,
     "metadata": {},
     "output_type": "execute_result"
    }
   ],
   "source": [
    "v"
   ]
  },
  {
   "cell_type": "code",
   "execution_count": 77,
   "id": "6cbda02c",
   "metadata": {},
   "outputs": [
    {
     "data": {
      "text/plain": [
       "92"
      ]
     },
     "execution_count": 77,
     "metadata": {},
     "output_type": "execute_result"
    }
   ],
   "source": [
    "#Exract the min\n",
    "np.argmin(v)"
   ]
  },
  {
   "cell_type": "markdown",
   "id": "fbc0060b",
   "metadata": {},
   "source": [
    "### Q2\n"
   ]
  },
  {
   "cell_type": "code",
   "execution_count": 78,
   "id": "3091c259",
   "metadata": {
    "scrolled": true
   },
   "outputs": [
    {
     "name": "stdout",
     "output_type": "stream",
     "text": [
      "[1. 1. 1. 1. 1. 0.] < 20\n",
      "[ 3. 10.  0. 20.  5. -1.] = 100\n",
      "[-0.3  0.7  0.   0.   0.   0. ] < 0\n",
      "[ 1.  2. -1.  0.  0.  1.] > 0\n",
      "[3. 0. 5. 0. 7. 0.] > 25\n",
      "[1. 0. 0. 0. 0. 0.] > 5\n",
      "[ 2.  5. -2.  7. -3.  1.] > 0\n"
     ]
    }
   ],
   "source": [
    "obj = np.array([13, 15, 20, 5, 16, 0])\n",
    "\n",
    "# initializing the constraint matrix\n",
    "ncons = 7\n",
    "nvar = 6\n",
    "A = np.zeros((ncons, nvar))                            \n",
    "b = np.zeros(ncons)\n",
    "sense = np.array(['<'] * ncons )                     \n",
    "\n",
    "A[0,] = np.array([1, 1, 1, 1, 1, 0])\n",
    "\n",
    "#Money - Excess Money  = 100 and excess money = health\n",
    "A[1,] = np.array([3, 10, 0, 20, 5, -1])\n",
    "\n",
    "A[2,] = np.array([-0.3, 0.7, 0, 0, 0, 0])\n",
    "\n",
    "A[3,:3] = np.array([1,2,-1])\n",
    "#Add in slack var for this\n",
    "A[3,-1] = 1\n",
    "\n",
    "\n",
    "A[4,] = np.array([3, 0, 5, 0, 7, 0])\n",
    "\n",
    "A[5,0] = 1\n",
    "\n",
    "A[6,] = np.array([2, 5, -2, 7, -3, 1])\n",
    "            \n",
    "b = np.array([20, 100, 0, 0, 25, 5, 0])\n",
    "sense = np.array(['<', '=', '<', '>', '>', '>', '>']) \n",
    "\n",
    "for i in range(ncons):\n",
    "    print(A[i,], sense[i], b[i])"
   ]
  },
  {
   "cell_type": "code",
   "execution_count": 79,
   "id": "5c8b7ce8",
   "metadata": {},
   "outputs": [
    {
     "name": "stdout",
     "output_type": "stream",
     "text": [
      "306.4761904761905\n"
     ]
    }
   ],
   "source": [
    "opModel = gp.Model()\n",
    "\n",
    "opModX = opModel.addMVar(len(obj))\n",
    "\n",
    "opModCon = opModel.addMConstrs(A, opModX, sense, b)\n",
    "#No quadratic, linear as obj, no constant\n",
    "opModel.setMObjective(None, obj, 0, sense=gp.GRB.MAXIMIZE)\n",
    "\n",
    "opModel.Params.OutputFlag = 0\n",
    "opModel.optimize()  \n",
    "\n",
    "#Optimal objective\n",
    "print(opModel.objVal)\n"
   ]
  },
  {
   "cell_type": "code",
   "execution_count": 80,
   "id": "c85b195a",
   "metadata": {},
   "outputs": [
    {
     "name": "stdout",
     "output_type": "stream",
     "text": [
      "[5.         2.14285714 9.28571429 3.04761905 0.52380952 0.        ]\n",
      "3.05\n"
     ]
    }
   ],
   "source": [
    "print(opModX.x)\n",
    "\n",
    "print(round(opModX.x[3],2))"
   ]
  },
  {
   "cell_type": "code",
   "execution_count": 81,
   "id": "f2f4e74a",
   "metadata": {},
   "outputs": [
    {
     "data": {
      "text/plain": [
       "20.400000000000002"
      ]
     },
     "execution_count": 81,
     "metadata": {},
     "output_type": "execute_result"
    }
   ],
   "source": [
    "opModX.SAObjUp[2]"
   ]
  },
  {
   "cell_type": "code",
   "execution_count": 82,
   "id": "523d7606",
   "metadata": {},
   "outputs": [
    {
     "data": {
      "text/plain": [
       "[19.666666666666668,\n",
       " -0.7333333333333333,\n",
       " 4.761904761904756,\n",
       " -0.33333333333333215,\n",
       " 0.0,\n",
       " -2.70476190476191,\n",
       " 0.0]"
      ]
     },
     "execution_count": 82,
     "metadata": {},
     "output_type": "execute_result"
    }
   ],
   "source": [
    "#Shadow Prices\n",
    "[con.Pi for con in opModCon]"
   ]
  },
  {
   "cell_type": "code",
   "execution_count": 83,
   "id": "1db2b3c5",
   "metadata": {
    "scrolled": false
   },
   "outputs": [
    {
     "data": {
      "text/plain": [
       "[(19.607142857142854, 23.45864661654135),\n",
       " (67.14285714285717, 107.85714285714289),\n",
       " (-1.15, 0.11000000000000044),\n",
       " (-0.39285714285714446, 5.054945054945054),\n",
       " (-inf, 65.0952380952381),\n",
       " (3.662790697674419, 5.134474327628363),\n",
       " (-inf, 21.904761904761898)]"
      ]
     },
     "execution_count": 83,
     "metadata": {},
     "output_type": "execute_result"
    }
   ],
   "source": [
    "[(con.SARHSLow, con.SARHSUp) for con in opModCon]"
   ]
  }
 ],
 "metadata": {
  "hide_input": false,
  "kernelspec": {
   "display_name": "Python 3",
   "language": "python",
   "name": "python3"
  },
  "language_info": {
   "codemirror_mode": {
    "name": "ipython",
    "version": 3
   },
   "file_extension": ".py",
   "mimetype": "text/x-python",
   "name": "python",
   "nbconvert_exporter": "python",
   "pygments_lexer": "ipython3",
   "version": "3.8.8"
  },
  "toc": {
   "base_numbering": 1,
   "nav_menu": {},
   "number_sections": true,
   "sideBar": true,
   "skip_h1_title": false,
   "title_cell": "Table of Contents",
   "title_sidebar": "Contents",
   "toc_cell": false,
   "toc_position": {},
   "toc_section_display": true,
   "toc_window_display": false
  },
  "varInspector": {
   "cols": {
    "lenName": 16,
    "lenType": 16,
    "lenVar": 40
   },
   "kernels_config": {
    "python": {
     "delete_cmd_postfix": "",
     "delete_cmd_prefix": "del ",
     "library": "var_list.py",
     "varRefreshCmd": "print(var_dic_list())"
    },
    "r": {
     "delete_cmd_postfix": ") ",
     "delete_cmd_prefix": "rm(",
     "library": "var_list.r",
     "varRefreshCmd": "cat(var_dic_list()) "
    }
   },
   "types_to_exclude": [
    "module",
    "function",
    "builtin_function_or_method",
    "instance",
    "_Feature"
   ],
   "window_display": false
  }
 },
 "nbformat": 4,
 "nbformat_minor": 5
}
