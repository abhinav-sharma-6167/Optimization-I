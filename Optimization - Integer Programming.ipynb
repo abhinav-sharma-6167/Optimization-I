{
 "cells": [
  {
   "cell_type": "code",
   "execution_count": 1,
   "id": "32de0dfa",
   "metadata": {},
   "outputs": [],
   "source": [
    "#Import py libraries\n",
    "import pandas as pd\n",
    "import numpy as np\n",
    "import math\n",
    "import gurobipy as gp"
   ]
  },
  {
   "cell_type": "markdown",
   "id": "0dee6687",
   "metadata": {},
   "source": [
    "Q2 : Factory Warehouse"
   ]
  },
  {
   "cell_type": "code",
   "execution_count": 2,
   "id": "91a8faaa",
   "metadata": {},
   "outputs": [
    {
     "data": {
      "text/plain": [
       "array([9, 5, 6, 4])"
      ]
     },
     "execution_count": 2,
     "metadata": {},
     "output_type": "execute_result"
    }
   ],
   "source": [
    "#Initialize optimization problem\n",
    "nvar = 4\n",
    "ncons = 3\n",
    "objective = np.array([9, 5, 6, 4])\n",
    "A_mat = np.zeros((ncons,nvar))\n",
    "objective"
   ]
  },
  {
   "cell_type": "code",
   "execution_count": 3,
   "id": "8b99abc1",
   "metadata": {},
   "outputs": [],
   "source": [
    "b_vec = [11, 1, 1]"
   ]
  },
  {
   "cell_type": "code",
   "execution_count": 4,
   "id": "08957455",
   "metadata": {},
   "outputs": [],
   "source": [
    "sense_vec = np.array(['<', '>', '<']) "
   ]
  },
  {
   "cell_type": "code",
   "execution_count": 5,
   "id": "4ff59cdb",
   "metadata": {},
   "outputs": [
    {
     "data": {
      "text/plain": [
       "True"
      ]
     },
     "execution_count": 5,
     "metadata": {},
     "output_type": "execute_result"
    }
   ],
   "source": [
    "#Quick Check 1\n",
    "len(objective) == nvar and len(b_vec) == ncons and len(sense_vec) == ncons"
   ]
  },
  {
   "cell_type": "code",
   "execution_count": 6,
   "id": "02186781",
   "metadata": {},
   "outputs": [],
   "source": [
    "A_mat[0,:] = [6, 3, 5, 2]\n",
    "A_mat[1,:] = [0, 0, 1, 1]\n",
    "A_mat[2,:] = [1, 1, 0, 0]"
   ]
  },
  {
   "cell_type": "code",
   "execution_count": 7,
   "id": "29085a1f",
   "metadata": {},
   "outputs": [
    {
     "name": "stdout",
     "output_type": "stream",
     "text": [
      "[6. 3. 5. 2.] < 11\n",
      "[0. 0. 1. 1.] > 1\n",
      "[1. 1. 0. 0.] < 1\n"
     ]
    }
   ],
   "source": [
    "for i in range(len(A_mat)):\n",
    "    print(A_mat[i,:]  , sense_vec[i]  , b_vec[i])"
   ]
  },
  {
   "cell_type": "code",
   "execution_count": 8,
   "id": "a01b4602",
   "metadata": {},
   "outputs": [
    {
     "name": "stdout",
     "output_type": "stream",
     "text": [
      "Restricted license - for non-production use only - expires 2022-01-13\n"
     ]
    }
   ],
   "source": [
    "#Gurobi\n",
    "Mod = gp.Model()\n",
    "Mod_x = Mod.addMVar(len(objective),vtype=['B']*len(objective))\n",
    "Mod_con = Mod.addMConstrs(A_mat, Mod_x, sense_vec, b_vec)\n",
    "Mod.setMObjective(None,objective,0,sense=gp.GRB.MAXIMIZE)\n",
    "Mod.Params.OutputFlag = 0 \n",
    "Mod.optimize()"
   ]
  },
  {
   "cell_type": "code",
   "execution_count": 9,
   "id": "7aaf7cf0",
   "metadata": {},
   "outputs": [
    {
     "ename": "SyntaxError",
     "evalue": "invalid syntax (<ipython-input-9-4dea55c81c07>, line 1)",
     "output_type": "error",
     "traceback": [
      "\u001b[0;36m  File \u001b[0;32m\"<ipython-input-9-4dea55c81c07>\"\u001b[0;36m, line \u001b[0;32m1\u001b[0m\n\u001b[0;31m    print(A_mat[])\u001b[0m\n\u001b[0m                ^\u001b[0m\n\u001b[0;31mSyntaxError\u001b[0m\u001b[0;31m:\u001b[0m invalid syntax\n"
     ]
    }
   ],
   "source": [
    "print(A_mat[])"
   ]
  },
  {
   "cell_type": "code",
   "execution_count": 10,
   "id": "78c31210",
   "metadata": {},
   "outputs": [
    {
     "name": "stdout",
     "output_type": "stream",
     "text": [
      "15.0 [0. 1. 1. 1.] 10.0\n"
     ]
    }
   ],
   "source": [
    "print(Mod.objval , Mod_x.x, Mod_x.x @ A_mat[0,:] )"
   ]
  },
  {
   "cell_type": "markdown",
   "id": "4d000991",
   "metadata": {},
   "source": [
    "Q3 : Western Airlines"
   ]
  },
  {
   "cell_type": "code",
   "execution_count": 104,
   "id": "989ac4c7",
   "metadata": {},
   "outputs": [
    {
     "data": {
      "text/plain": [
       "array([1, 1, 1, 1, 1, 1, 1, 1, 1, 1, 1, 1])"
      ]
     },
     "execution_count": 104,
     "metadata": {},
     "output_type": "execute_result"
    }
   ],
   "source": [
    "#Initialize optimization problem\n",
    "nvar = 12\n",
    "ncons = 12\n",
    "objective = np.array([1]*12)\n",
    "A_mat = np.zeros((ncons,nvar))\n",
    "objective"
   ]
  },
  {
   "cell_type": "code",
   "execution_count": 105,
   "id": "ed159333",
   "metadata": {},
   "outputs": [],
   "source": [
    "b_vec = [1]*12"
   ]
  },
  {
   "cell_type": "code",
   "execution_count": 106,
   "id": "47ed66a2",
   "metadata": {},
   "outputs": [],
   "source": [
    "sense_vec = np.array(['>']*12) "
   ]
  },
  {
   "cell_type": "code",
   "execution_count": 107,
   "id": "08c3b9e9",
   "metadata": {},
   "outputs": [
    {
     "data": {
      "text/plain": [
       "True"
      ]
     },
     "execution_count": 107,
     "metadata": {},
     "output_type": "execute_result"
    }
   ],
   "source": [
    "#Quick Check 1\n",
    "len(objective) == nvar and len(b_vec) == ncons and len(sense_vec) == ncons"
   ]
  },
  {
   "cell_type": "code",
   "execution_count": 108,
   "id": "a0aa5d3e",
   "metadata": {},
   "outputs": [],
   "source": [
    "A_mat[0,[0,2,4,6,7,8]] = 1\n",
    "A_mat[1,[1,7,8]] = 1\n",
    "A_mat[2,[0,2,6,7,8]] = 1\n",
    "A_mat[3,[3,9]] = 1\n",
    "A_mat[4,[0,4,6]] = 1\n",
    "A_mat[5,[5,9,10]] = 1\n",
    "A_mat[6,[0,2,4,6]] = 1\n",
    "A_mat[7,[0,1,2,7,8]] = 1\n",
    "A_mat[8,[0,1,2,7,8]] = 1\n",
    "A_mat[9,[3,5,9,10,11]] = 1\n",
    "A_mat[10,[5,9,10,11]] = 1\n",
    "A_mat[11,[9,10,11]] = 1"
   ]
  },
  {
   "cell_type": "code",
   "execution_count": 109,
   "id": "272856ba",
   "metadata": {},
   "outputs": [
    {
     "name": "stdout",
     "output_type": "stream",
     "text": [
      "[1. 0. 1. 0. 1. 0. 1. 1. 1. 0. 0. 0.] > 1\n",
      "[0. 1. 0. 0. 0. 0. 0. 1. 1. 0. 0. 0.] > 1\n",
      "[1. 0. 1. 0. 0. 0. 1. 1. 1. 0. 0. 0.] > 1\n",
      "[0. 0. 0. 1. 0. 0. 0. 0. 0. 1. 0. 0.] > 1\n",
      "[1. 0. 0. 0. 1. 0. 1. 0. 0. 0. 0. 0.] > 1\n",
      "[0. 0. 0. 0. 0. 1. 0. 0. 0. 1. 1. 0.] > 1\n",
      "[1. 0. 1. 0. 1. 0. 1. 0. 0. 0. 0. 0.] > 1\n",
      "[1. 1. 1. 0. 0. 0. 0. 1. 1. 0. 0. 0.] > 1\n",
      "[1. 1. 1. 0. 0. 0. 0. 1. 1. 0. 0. 0.] > 1\n",
      "[0. 0. 0. 1. 0. 1. 0. 0. 0. 1. 1. 1.] > 1\n",
      "[0. 0. 0. 0. 0. 1. 0. 0. 0. 1. 1. 1.] > 1\n",
      "[0. 0. 0. 0. 0. 0. 0. 0. 0. 1. 1. 1.] > 1\n"
     ]
    }
   ],
   "source": [
    "for i in range(len(A_mat)):\n",
    "    print(A_mat[i,:]  , sense_vec[i]  , b_vec[i])"
   ]
  },
  {
   "cell_type": "code",
   "execution_count": 112,
   "id": "bdf458b8",
   "metadata": {},
   "outputs": [],
   "source": [
    "#Gurobi\n",
    "Mod = gp.Model()\n",
    "Mod_x = Mod.addMVar(len(objective),vtype=['B']*len(objective))\n",
    "Mod_con = Mod.addMConstrs(A_mat, Mod_x, sense_vec, b_vec)\n",
    "Mod.setMObjective(None,objective,0,sense=gp.GRB.MINIMIZE)\n",
    "Mod.Params.OutputFlag = 0 \n",
    "Mod.optimize()"
   ]
  },
  {
   "cell_type": "code",
   "execution_count": 113,
   "id": "69f65359",
   "metadata": {
    "scrolled": true
   },
   "outputs": [
    {
     "name": "stdout",
     "output_type": "stream",
     "text": [
      "3.0 [1. 0. 0. 0. 0. 0. 0. 0. 1. 1. 0. 0.]\n"
     ]
    }
   ],
   "source": [
    "print(Mod.objval , Mod_x.x )"
   ]
  },
  {
   "cell_type": "markdown",
   "id": "c974bd43",
   "metadata": {},
   "source": [
    "Q4 : Paper Mills\n",
    "Total numbers of patterns to get 120\n",
    "- 4 x 25\n",
    "- 3 x 25, 1 x 37\n",
    "- 2 x 25, 1 x 54\n",
    "- 2 x 25, 1 x 37\n",
    "- 1 x 25, 2 x 37\n",
    "- 1 x 25, 1 x 37, 1 x 54\n",
    "- 0 x 25, 0 x 37, 2 x 54\n",
    "- 0 x 25, 3 x 37, 0 x 54\n",
    "\n",
    "\n",
    "Detailed combinatorials for sense check\n",
    "- 4,0,0\n",
    "- 3,0,0\n",
    "- 3,1,0\n",
    "- 2,0,0\n",
    "- 2,1,0\n",
    "- 2,0,1\n",
    "- 2,2,0\n",
    "- 1,0,0\n",
    "- 1,0,1\n",
    "- 1,1,0\n",
    "- 1,1,1\n",
    "- 1,2,0\n",
    "- 0,0,1\n",
    "- 0,1,0\n",
    "- 0,2,0\n",
    "- 0,0,2\n",
    "- 0,3,0\n",
    "\n",
    "\n"
   ]
  },
  {
   "cell_type": "code",
   "execution_count": 73,
   "id": "6ca93080",
   "metadata": {},
   "outputs": [
    {
     "data": {
      "text/plain": [
       "array([1, 1, 1, 1, 1, 1, 1, 1])"
      ]
     },
     "execution_count": 73,
     "metadata": {},
     "output_type": "execute_result"
    }
   ],
   "source": [
    "#Initialize optimization problem\n",
    "nvar = 8\n",
    "ncons = 3\n",
    "objective = np.array([1]*nvar)\n",
    "A_mat = np.zeros((ncons,nvar))\n",
    "objective"
   ]
  },
  {
   "cell_type": "code",
   "execution_count": 74,
   "id": "f5c120c7",
   "metadata": {},
   "outputs": [],
   "source": [
    "b_vec = [233,148,106]"
   ]
  },
  {
   "cell_type": "code",
   "execution_count": 75,
   "id": "631ded68",
   "metadata": {},
   "outputs": [],
   "source": [
    "sense_vec = np.array(['>']*ncons) "
   ]
  },
  {
   "cell_type": "code",
   "execution_count": 76,
   "id": "748bfe87",
   "metadata": {},
   "outputs": [
    {
     "data": {
      "text/plain": [
       "True"
      ]
     },
     "execution_count": 76,
     "metadata": {},
     "output_type": "execute_result"
    }
   ],
   "source": [
    "#Quick Check 1\n",
    "len(objective) == nvar and len(b_vec) == ncons and len(sense_vec) == ncons"
   ]
  },
  {
   "cell_type": "code",
   "execution_count": 77,
   "id": "30b88ea7",
   "metadata": {},
   "outputs": [],
   "source": [
    "A_mat[0,:] = [4,3,2,2,1,1,0,0]\n",
    "A_mat[1,:] = [0,1,0,1,2,1,0,3]\n",
    "A_mat[2,:] = [0,0,1,0,0,1,2,0]\n",
    "# A_mat[0,:] = [4,3,3,2,2,2,2,1,1,1,1,1,0,0,0,0,0]\n",
    "# A_mat[1,:] = [0,0,1,0,1,0,2,0,0,1,1,2,0,1,2,0,3]\n",
    "# A_mat[2,:] = [0,0,0,0,0,1,0,0,1,0,1,0,1,0,0,2,0]"
   ]
  },
  {
   "cell_type": "code",
   "execution_count": 78,
   "id": "ade75d8a",
   "metadata": {},
   "outputs": [
    {
     "name": "stdout",
     "output_type": "stream",
     "text": [
      "[4. 3. 2. 2. 1. 1. 0. 0.] > 233\n",
      "[0. 1. 0. 1. 2. 1. 0. 3.] > 148\n",
      "[0. 0. 1. 0. 0. 1. 2. 0.] > 106\n"
     ]
    }
   ],
   "source": [
    "for i in range(len(A_mat)):\n",
    "    print(A_mat[i,:]  , sense_vec[i]  , b_vec[i])"
   ]
  },
  {
   "cell_type": "code",
   "execution_count": 81,
   "id": "6ab260e3",
   "metadata": {},
   "outputs": [],
   "source": [
    "#Gurobi\n",
    "Mod = gp.Model()\n",
    "Mod_x = Mod.addMVar(len(objective),vtype=['I']*len(objective))\n",
    "Mod_con = Mod.addMConstrs(A_mat, Mod_x, sense_vec, b_vec)\n",
    "Mod.setMObjective(None,objective,0,sense=gp.GRB.MINIMIZE)\n",
    "Mod.Params.OutputFlag = 0 \n",
    "Mod.optimize()"
   ]
  },
  {
   "cell_type": "code",
   "execution_count": 82,
   "id": "6fe92c6c",
   "metadata": {
    "scrolled": true
   },
   "outputs": [
    {
     "name": "stdout",
     "output_type": "stream",
     "text": [
      "149.0 [  1.  42.  -0.  -0.  -0. 106.  -0.  -0.]\n"
     ]
    }
   ],
   "source": [
    "print(Mod.objval , Mod_x.x )"
   ]
  },
  {
   "cell_type": "markdown",
   "id": "b0151ff5",
   "metadata": {},
   "source": [
    "Q5 : Days off scheduling\n",
    "\n",
    "Minimize the cost of assigning workers to a 7-day cyclic schedule so that\n",
    "1) Sufficient workers are available every day.\n",
    "\n",
    "2) Each person works 5 consecutive days and is idle to the remaining 2 days."
   ]
  },
  {
   "cell_type": "code",
   "execution_count": 87,
   "id": "88a78641",
   "metadata": {},
   "outputs": [
    {
     "data": {
      "text/plain": [
       "array([330, 300, 330, 360, 360, 360, 360])"
      ]
     },
     "execution_count": 87,
     "metadata": {},
     "output_type": "execute_result"
    }
   ],
   "source": [
    "#Initialize optimization problem\n",
    "nvar = 7\n",
    "ncons = 7\n",
    "objective = np.array([330,300,330,360,360,360,360])\n",
    "A_mat = np.zeros((ncons,nvar))\n",
    "objective"
   ]
  },
  {
   "cell_type": "code",
   "execution_count": 88,
   "id": "20d024a8",
   "metadata": {},
   "outputs": [],
   "source": [
    "b_vec = [5,13,12,10,14,8,6]"
   ]
  },
  {
   "cell_type": "code",
   "execution_count": 89,
   "id": "4034dfd9",
   "metadata": {},
   "outputs": [],
   "source": [
    "sense_vec = np.array(['>']*ncons) "
   ]
  },
  {
   "cell_type": "code",
   "execution_count": 90,
   "id": "f778e86f",
   "metadata": {},
   "outputs": [
    {
     "data": {
      "text/plain": [
       "True"
      ]
     },
     "execution_count": 90,
     "metadata": {},
     "output_type": "execute_result"
    }
   ],
   "source": [
    "#Quick Check 1\n",
    "len(objective) == nvar and len(b_vec) == ncons and len(sense_vec) == ncons"
   ]
  },
  {
   "cell_type": "code",
   "execution_count": 96,
   "id": "44acfcce",
   "metadata": {},
   "outputs": [
    {
     "data": {
      "text/plain": [
       "array([[1., 0., 0., 1., 1., 1., 1.],\n",
       "       [1., 1., 0., 0., 1., 1., 1.],\n",
       "       [1., 1., 1., 0., 0., 1., 1.],\n",
       "       [1., 1., 1., 1., 0., 0., 1.],\n",
       "       [1., 1., 1., 1., 1., 0., 0.],\n",
       "       [0., 1., 1., 1., 1., 1., 0.],\n",
       "       [0., 0., 1., 1., 1., 1., 1.]])"
      ]
     },
     "execution_count": 96,
     "metadata": {},
     "output_type": "execute_result"
    }
   ],
   "source": [
    "A_mat[0,:] = [1]*5+[0]*2\n",
    "A_mat[1,:] = [0]*1+[1]*5+[0]*1\n",
    "A_mat[2,:] = [0]*2+[1]*5\n",
    "A_mat[3,:] = [1]*1+[0]*2+[1]*4\n",
    "A_mat[4,:] = [1]*2+[0]*2+[1]*3\n",
    "A_mat[5,:] = [1]*3+[0]*2+[1]*2\n",
    "A_mat[6,:] = [1]*4+[0]*2+[1]*1\n",
    "A_mat.T"
   ]
  },
  {
   "cell_type": "code",
   "execution_count": 97,
   "id": "070e9fe8",
   "metadata": {},
   "outputs": [
    {
     "name": "stdout",
     "output_type": "stream",
     "text": [
      "[1. 0. 0. 1. 1. 1. 1.] > 5\n",
      "[1. 1. 0. 0. 1. 1. 1.] > 13\n",
      "[1. 1. 1. 0. 0. 1. 1.] > 12\n",
      "[1. 1. 1. 1. 0. 0. 1.] > 10\n",
      "[1. 1. 1. 1. 1. 0. 0.] > 14\n",
      "[0. 1. 1. 1. 1. 1. 0.] > 8\n",
      "[0. 0. 1. 1. 1. 1. 1.] > 6\n"
     ]
    }
   ],
   "source": [
    "for i in range(len(A_mat.T)):\n",
    "    print(A_mat.T[i,:]  , sense_vec[i]  , b_vec[i])"
   ]
  },
  {
   "cell_type": "code",
   "execution_count": 98,
   "id": "33ba19ae",
   "metadata": {},
   "outputs": [],
   "source": [
    "#Gurobi\n",
    "Mod = gp.Model()\n",
    "Mod_x = Mod.addMVar(len(objective),vtype=['I']*len(objective))\n",
    "Mod_con = Mod.addMConstrs(A_mat.T, Mod_x, sense_vec, b_vec)\n",
    "Mod.setMObjective(None,objective,0,sense=gp.GRB.MINIMIZE)\n",
    "Mod.Params.OutputFlag = 0 \n",
    "Mod.optimize()"
   ]
  },
  {
   "cell_type": "code",
   "execution_count": 99,
   "id": "0bf449c3",
   "metadata": {
    "scrolled": true
   },
   "outputs": [
    {
     "name": "stdout",
     "output_type": "stream",
     "text": [
      "4830.0 [ 1.  8.  2. -0.  3.  1. -0.]\n"
     ]
    }
   ],
   "source": [
    "print(Mod.objval , Mod_x.x )"
   ]
  }
 ],
 "metadata": {
  "hide_input": false,
  "kernelspec": {
   "display_name": "Python 3",
   "language": "python",
   "name": "python3"
  },
  "language_info": {
   "codemirror_mode": {
    "name": "ipython",
    "version": 3
   },
   "file_extension": ".py",
   "mimetype": "text/x-python",
   "name": "python",
   "nbconvert_exporter": "python",
   "pygments_lexer": "ipython3",
   "version": "3.8.8"
  },
  "toc": {
   "base_numbering": 1,
   "nav_menu": {},
   "number_sections": true,
   "sideBar": true,
   "skip_h1_title": false,
   "title_cell": "Table of Contents",
   "title_sidebar": "Contents",
   "toc_cell": false,
   "toc_position": {},
   "toc_section_display": true,
   "toc_window_display": false
  },
  "varInspector": {
   "cols": {
    "lenName": 16,
    "lenType": 16,
    "lenVar": 40
   },
   "kernels_config": {
    "python": {
     "delete_cmd_postfix": "",
     "delete_cmd_prefix": "del ",
     "library": "var_list.py",
     "varRefreshCmd": "print(var_dic_list())"
    },
    "r": {
     "delete_cmd_postfix": ") ",
     "delete_cmd_prefix": "rm(",
     "library": "var_list.r",
     "varRefreshCmd": "cat(var_dic_list()) "
    }
   },
   "types_to_exclude": [
    "module",
    "function",
    "builtin_function_or_method",
    "instance",
    "_Feature"
   ],
   "window_display": false
  }
 },
 "nbformat": 4,
 "nbformat_minor": 5
}
